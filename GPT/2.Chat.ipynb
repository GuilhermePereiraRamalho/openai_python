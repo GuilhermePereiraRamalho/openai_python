{
 "cells": [
  {
   "cell_type": "markdown",
   "metadata": {},
   "source": [
    "## Setup"
   ]
  },
  {
   "cell_type": "code",
   "execution_count": 1,
   "metadata": {},
   "outputs": [
    {
     "data": {
      "text/plain": [
       "True"
      ]
     },
     "execution_count": 1,
     "metadata": {},
     "output_type": "execute_result"
    }
   ],
   "source": [
    "from openai import OpenAI\n",
    "from dotenv import load_dotenv\n",
    "import os\n",
    "\n",
    "load_dotenv()"
   ]
  },
  {
   "cell_type": "code",
   "execution_count": 2,
   "metadata": {},
   "outputs": [],
   "source": [
    "client = OpenAI(api_key=os.getenv(\"OPENAI_API_KEY\"))\n",
    "model = 'gpt-3.5-turbo'"
   ]
  },
  {
   "cell_type": "markdown",
   "metadata": {},
   "source": [
    "## Basic Example"
   ]
  },
  {
   "cell_type": "code",
   "execution_count": 3,
   "metadata": {},
   "outputs": [],
   "source": [
    "response = client.chat.completions.create(\n",
    "    model=model,\n",
    "    messages=[\n",
    "        {\n",
    "            'role': 'user',\n",
    "            'content': \"Tell me a Joke\"\n",
    "        }\n",
    "    ]\n",
    ")"
   ]
  },
  {
   "cell_type": "code",
   "execution_count": 4,
   "metadata": {},
   "outputs": [
    {
     "name": "stdout",
     "output_type": "stream",
     "text": [
      "ChatCompletion(id='chatcmpl-9jOp95dWf4XSvfaDbvEeiQW8GuFDp', choices=[Choice(finish_reason='stop', index=0, logprobs=None, message=ChatCompletionMessage(content=\"Why don't scientists trust atoms?\\n\\nBecause they make up everything!\", role='assistant', function_call=None, tool_calls=None))], created=1720607211, model='gpt-3.5-turbo-0125', object='chat.completion', service_tier=None, system_fingerprint=None, usage=CompletionUsage(completion_tokens=13, prompt_tokens=12, total_tokens=25))\n"
     ]
    }
   ],
   "source": [
    "print(response)"
   ]
  },
  {
   "cell_type": "code",
   "execution_count": 5,
   "metadata": {},
   "outputs": [
    {
     "name": "stdout",
     "output_type": "stream",
     "text": [
      "<class 'openai.types.chat.chat_completion.ChatCompletion'>\n"
     ]
    }
   ],
   "source": [
    "print(type(response))"
   ]
  },
  {
   "cell_type": "code",
   "execution_count": 6,
   "metadata": {},
   "outputs": [
    {
     "name": "stdout",
     "output_type": "stream",
     "text": [
      "Why don't scientists trust atoms?\n",
      "\n",
      "Because they make up everything!\n"
     ]
    }
   ],
   "source": [
    "message = (response.choices[0].message.content)\n",
    "print(message)"
   ]
  },
  {
   "cell_type": "markdown",
   "metadata": {},
   "source": [
    "## Roles"
   ]
  },
  {
   "cell_type": "code",
   "execution_count": 7,
   "metadata": {},
   "outputs": [],
   "source": [
    "response = client.chat.completions.create(\n",
    "    model=model,\n",
    "    messages=[\n",
    "        {'role': 'system', 'content': \"You are a fictional investment assistant\"},\n",
    "        {'role': 'user', 'content': \"What it the best low-risk investment you recommend for this year?\"},\n",
    "    ]\n",
    ")"
   ]
  },
  {
   "cell_type": "code",
   "execution_count": 8,
   "metadata": {},
   "outputs": [
    {
     "name": "stdout",
     "output_type": "stream",
     "text": [
      "As a fictional investment assistant, I would recommend considering investing in Treasury securities such as Treasury bills (T-bills) or Treasury bonds. These are considered low-risk investments because they are backed by the U.S. government. Treasury securities are considered one of the safest investment options because the government guarantees to repay the principal amount along with interest.\n",
      "\n",
      "Investing in Treasury securities can be a good option for low-risk investors looking for a stable and reliable investment with relatively low volatility. However, it's important to keep in mind that the returns on Treasury securities are typically lower compared to riskier investments such as stocks or corporate bonds. Additionally, interest rates and inflation can impact the overall return on Treasury securities.\n",
      "\n",
      "It's always a good idea to consult with a financial advisor or do thorough research before making any investment decisions.\n"
     ]
    }
   ],
   "source": [
    "message = (response.choices[0].message.content)\n",
    "print(message)"
   ]
  },
  {
   "cell_type": "code",
   "execution_count": 9,
   "metadata": {},
   "outputs": [
    {
     "name": "stdout",
     "output_type": "stream",
     "text": [
      "Government bonds, including Treasury securities, are generally considered low-risk investments. However, there are still some risks associated with investing in government bonds that investors should be aware of:\n",
      "\n",
      "1. Interest Rate Risk: Government bond prices are inversely related to interest rates. When interest rates rise, bond prices fall, and vice versa. This means that if you need to sell your bond before it matures, you could potentially incur a loss if interest rates have risen since you purchased the bond.\n",
      "\n",
      "2. Inflation Risk: Inflation erodes the purchasing power of fixed-income investments like government bonds. If the rate of inflation exceeds the bond's interest rate, the real return on your investment could be negative.\n",
      "\n",
      "3. Credit Risk: While U.S. government bonds are considered nearly risk-free because they are backed by the full faith and credit of the U.S. government, bonds issued by other governments or agencies may carry credit risk. If there are concerns about a government's ability to repay its debt, the value of its bonds may decline.\n",
      "\n",
      "4. Reinvestment Risk: If you receive coupon payments from a bond and interest rates have fallen by the time you need to reinvest that income, you may have to settle for lower rates of return on your reinvested funds.\n",
      "\n",
      "5. Call Risk: Some government bonds may be callable, meaning that the issuer can redeem them before their maturity date. If a bond is called, you may have to reinvest the principal at a lower interest rate.\n",
      "\n",
      "6. Liquidity Risk: Government bonds are generally considered to be highly liquid, but in some cases, you may not be able to sell the bond quickly or at a fair price, especially for less commonly traded issues.\n",
      "\n",
      "While government bonds are considered relatively safe investments, it's important to understand and consider these risks before making any investment decisions.\n"
     ]
    }
   ],
   "source": [
    "response = client.chat.completions.create(\n",
    "    model=model,\n",
    "    messages=[\n",
    "        {'role': 'assistant', 'content': message},\n",
    "        {'role': 'user', 'content': \"What are the risk related to government bonds?\"},\n",
    "    ]\n",
    ")\n",
    "print(response.choices[0].message.content)"
   ]
  },
  {
   "cell_type": "markdown",
   "metadata": {},
   "source": [
    "## Hyper Parameters"
   ]
  },
  {
   "cell_type": "markdown",
   "metadata": {},
   "source": [
    " - Frequency_penalty: entre -2 e 2. Valores positivos reduzem a probabilidade de palavras repetidas(Valor padrao 0)\n",
    " - presence_penalty: entre -2 e 2. Valores positivos aumentam a probabilidade de falar sobre novos  assuntos (valor padrao 0)\n",
    " - temperature: valor entre 0 e 1 que define a aleatoriedade do texto. Quanto mais proximo de 1 mais aleatorio(padrao 1)\n",
    " - max_tokens: numero maximo de palavras na resposta(inf: 4096)\n",
    " - n: quantidade de respostas geradas(padrao 1)\n",
    " - stop: Lista texto que pode ser utilizado para parar a geração de texto. Padrao é None"
   ]
  },
  {
   "cell_type": "code",
   "execution_count": 10,
   "metadata": {},
   "outputs": [],
   "source": [
    "response = client.chat.completions.create(\n",
    "    model=model,\n",
    "    frequency_penalty=1,\n",
    "    presence_penalty=1,\n",
    "    temperature=1,\n",
    "    max_tokens=500,\n",
    "    n=2,\n",
    "    seed=123,\n",
    "    # stop=[\"shadows\", \"mortal \"],\n",
    "    messages=[\n",
    "        {\"role\": \"system\", \"content\": \"You are a depressed and disillusioned poet.\"},\n",
    "        {\"role\": \"user\", \"content\": \"Compose a poem about ephemerality of existence.\"}\n",
    "    ]\n",
    ")"
   ]
  },
  {
   "cell_type": "code",
   "execution_count": 11,
   "metadata": {},
   "outputs": [
    {
     "name": "stdout",
     "output_type": "stream",
     "text": [
      "In the vast expanse of time we drift,\n",
      "A fleeting moment, a passing shift.\n",
      "Our lives like whispers in the wind,\n",
      "Ephemeral as shadows pinned.\n",
      "\n",
      "We strive and toil with all our might,\n",
      "Chasing after fading light.\n",
      "But in the end, what do we find?\n",
      "Just fragments left behind.\n",
      "\n",
      "The memories we hold so dear,\n",
      "Fade away year by year.\n",
      "Like grains of sand slipping through our hands,\n",
      "Time's relentless march expands.\n",
      "\n",
      "So let us ponder this truth profound,\n",
      "As we roam on earthly ground.\n",
      "In this transient existence we reside,\n",
      "Let us cherish each moment before it subsides. \n",
      "\n",
      "For what is life but a fragile dance?\n",
      "A fleeting chance, a fleeting glance.\n",
      "Embrace the ephemeral nature of your days,\n",
      "And find beauty in life's bittersweet haze.\n",
      "--------------------------\n",
      "In the darkness of despair I sit,\n",
      "Contemplating life's fleeting wit.\n",
      "A whisper in the wind, a blink of an eye,\n",
      "Our existence but a moment passing by.\n",
      "\n",
      "We strive and struggle, we yearn for more,\n",
      "Yet time slips through our fingers, out the door.\n",
      "Like shadows on the wall, we fade away,\n",
      "Insignificant in the grand scheme of decay.\n",
      "\n",
      "The laughter fades, the tears dissolve,\n",
      "In this world where nothing can absolve.\n",
      "Dreams shattered like fragile glass,\n",
      "Leaving behind a hollow mass.\n",
      "\n",
      "What is it all for? This ceaseless race?\n",
      "When all we touch will soon erase.\n",
      "The sun will set, the stars will fall,\n",
      "And we'll be left with naught at all. \n",
      "\n",
      "So let us embrace this transient state,\n",
      "Find beauty in our inevitable fate.\n",
      "For in these moments that swiftly go by,\n",
      "Lies the essence of what it means to be alive.\n"
     ]
    }
   ],
   "source": [
    "print(response.choices[0].message.content)\n",
    "print('--------------------------')\n",
    "print(response.choices[1].message.content)"
   ]
  },
  {
   "cell_type": "markdown",
   "metadata": {},
   "source": [
    "## Output Analysis"
   ]
  },
  {
   "cell_type": "code",
   "execution_count": 12,
   "metadata": {},
   "outputs": [
    {
     "name": "stdout",
     "output_type": "stream",
     "text": [
      "ID: chatcmpl-9jOpH63pXOBpRmPasKz1iceRAgadk\n",
      "Model: gpt-3.5-turbo-0125\n",
      "Object: chat.completion\n",
      "\n",
      "Choice Index: 0\n",
      "Finish Reasin: stop\n",
      "Logprobs: None\n",
      "Message content: In the vast expanse of time we drift,\n",
      "A fleeting moment, a passing shift.\n",
      "Our lives like whispers in the wind,\n",
      "Ephemeral as shadows pinned.\n",
      "\n",
      "We strive and toil with all our might,\n",
      "Chasing after fading light.\n",
      "But in the end, what do we find?\n",
      "Just fragments left behind.\n",
      "\n",
      "The memories we hold so dear,\n",
      "Fade away year by year.\n",
      "Like grains of sand slipping through our hands,\n",
      "Time's relentless march expands.\n",
      "\n",
      "So let us ponder this truth profound,\n",
      "As we roam on earthly ground.\n",
      "In this transient existence we reside,\n",
      "Let us cherish each moment before it subsides. \n",
      "\n",
      "For what is life but a fragile dance?\n",
      "A fleeting chance, a fleeting glance.\n",
      "Embrace the ephemeral nature of your days,\n",
      "And find beauty in life's bittersweet haze.\n",
      "\n",
      "Choice Index: 1\n",
      "Finish Reasin: stop\n",
      "Logprobs: None\n",
      "Message content: In the darkness of despair I sit,\n",
      "Contemplating life's fleeting wit.\n",
      "A whisper in the wind, a blink of an eye,\n",
      "Our existence but a moment passing by.\n",
      "\n",
      "We strive and struggle, we yearn for more,\n",
      "Yet time slips through our fingers, out the door.\n",
      "Like shadows on the wall, we fade away,\n",
      "Insignificant in the grand scheme of decay.\n",
      "\n",
      "The laughter fades, the tears dissolve,\n",
      "In this world where nothing can absolve.\n",
      "Dreams shattered like fragile glass,\n",
      "Leaving behind a hollow mass.\n",
      "\n",
      "What is it all for? This ceaseless race?\n",
      "When all we touch will soon erase.\n",
      "The sun will set, the stars will fall,\n",
      "And we'll be left with naught at all. \n",
      "\n",
      "So let us embrace this transient state,\n",
      "Find beauty in our inevitable fate.\n",
      "For in these moments that swiftly go by,\n",
      "Lies the essence of what it means to be alive.\n",
      "Created: 1720607219\n",
      "Usage: CompletionUsage(completion_tokens=348, prompt_tokens=31, total_tokens=379)\n"
     ]
    }
   ],
   "source": [
    "print(f\"ID: {response.id}\")\n",
    "print(f\"Model: {response.model}\")\n",
    "print(f\"Object: {response.object}\")\n",
    "\n",
    "for choice in response.choices:\n",
    "    print(f\"\\nChoice Index: {choice.index}\")\n",
    "    print(f\"Finish Reason: {choice.finish_reason}\")\n",
    "    print(f\"Logprobs: {choice.logprobs}\")\n",
    "\n",
    "    if hasattr(choice, 'message') and hasattr(choice.message, 'content'):\n",
    "        print(f\"Message content: {choice.message.content}\")\n",
    "\n",
    "if hasattr(response, \"created\"):\n",
    "    print(f\"Created: {response.created}\")\n",
    "\n",
    "if hasattr(response, \"usage\"):\n",
    "    print(f\"Usage: {response.usage}\")"
   ]
  },
  {
   "cell_type": "code",
   "execution_count": null,
   "metadata": {},
   "outputs": [],
   "source": []
  }
 ],
 "metadata": {
  "kernelspec": {
   "display_name": "venv",
   "language": "python",
   "name": "python3"
  },
  "language_info": {
   "codemirror_mode": {
    "name": "ipython",
    "version": 3
   },
   "file_extension": ".py",
   "mimetype": "text/x-python",
   "name": "python",
   "nbconvert_exporter": "python",
   "pygments_lexer": "ipython3",
   "version": "3.12.4"
  }
 },
 "nbformat": 4,
 "nbformat_minor": 2
}
