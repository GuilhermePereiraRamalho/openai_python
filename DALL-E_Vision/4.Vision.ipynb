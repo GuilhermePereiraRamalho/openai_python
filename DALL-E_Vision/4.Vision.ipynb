{
 "cells": [
  {
   "cell_type": "markdown",
   "metadata": {},
   "source": [
    "## Setup"
   ]
  },
  {
   "cell_type": "code",
   "execution_count": 1,
   "metadata": {},
   "outputs": [
    {
     "data": {
      "text/plain": [
       "True"
      ]
     },
     "execution_count": 1,
     "metadata": {},
     "output_type": "execute_result"
    }
   ],
   "source": [
    "from openai import OpenAI\n",
    "import base64\n",
    "import requests\n",
    "from dotenv import load_dotenv\n",
    "import os\n",
    "\n",
    "load_dotenv()"
   ]
  },
  {
   "cell_type": "markdown",
   "metadata": {},
   "source": [
    "No curso era pra usar o gpt4 vision, mas ele foi descontinuado entao acabei usando o gpt-4o"
   ]
  },
  {
   "cell_type": "code",
   "execution_count": 4,
   "metadata": {},
   "outputs": [],
   "source": [
    "client = OpenAI(api_key=os.getenv(\"OPENAI_API_KEY\"))\n",
    "# model = 'gpt-4-vision-preview'\n",
    "model = 'gpt-4o'"
   ]
  },
  {
   "cell_type": "markdown",
   "metadata": {},
   "source": [
    "## Example"
   ]
  },
  {
   "cell_type": "code",
   "execution_count": 5,
   "metadata": {},
   "outputs": [
    {
     "name": "stdout",
     "output_type": "stream",
     "text": [
      "Choice(finish_reason='stop', index=0, logprobs=None, message=ChatCompletionMessage(content='The image is a movie poster for the film \"Interstellar\". It features a person wearing a spacesuit standing in a desolate, icy, and mountainous landscape. The spacesuit has a futuristic design, suggesting a setting involving space exploration. The top of the poster lists the names of actors: Matthew McConaughey, Anne Hathaway, Jessica Chastain, and Michael Caine. \\n\\nBelow the person, the tagline reads: \"The end of Earth will not be the end of us.\"\\n\\nThe title of the movie, \"Interstellar\", is prominently displayed in large letters near the center. Under the title, it states \"A FILM BY CHRISTOPHER NOLAN\" and the release date \"NOVEMBER 7\".\\n\\nFurther details, such as credits for production and direction, are listed at the bottom of the poster along with a note that the film will be released in theaters and IMAX.', role='assistant', function_call=None, tool_calls=None))\n"
     ]
    }
   ],
   "source": [
    "response = client.chat.completions.create(\n",
    "  model=model,\n",
    "  messages=[\n",
    "    {\n",
    "      \"role\": \"user\",\n",
    "      \"content\": [\n",
    "            {\"type\": \"text\", \"text\": \"Describe what you see in the image\"},\n",
    "            {\n",
    "                \"type\": \"image_url\", \"image_url\": {\n",
    "                    \"url\": \"https://upload.wikimedia.org/wikipedia/pt/3/3a/Interstellar_Filme.png\",\n",
    "                    \"detail\": \"high\"  #low, high, or auto\n",
    "                },\n",
    "            },\n",
    "        ],\n",
    "    }\n",
    "  ],\n",
    "  max_tokens=500,\n",
    ")\n",
    "\n",
    "print(response.choices[0])"
   ]
  },
  {
   "cell_type": "code",
   "execution_count": 6,
   "metadata": {},
   "outputs": [
    {
     "name": "stdout",
     "output_type": "stream",
     "text": [
      "The image is a movie poster for the film \"Interstellar\". It features a person wearing a spacesuit standing in a desolate, icy, and mountainous landscape. The spacesuit has a futuristic design, suggesting a setting involving space exploration. The top of the poster lists the names of actors: Matthew McConaughey, Anne Hathaway, Jessica Chastain, and Michael Caine. \n",
      "\n",
      "Below the person, the tagline reads: \"The end of Earth will not be the end of us.\"\n",
      "\n",
      "The title of the movie, \"Interstellar\", is prominently displayed in large letters near the center. Under the title, it states \"A FILM BY CHRISTOPHER NOLAN\" and the release date \"NOVEMBER 7\".\n",
      "\n",
      "Further details, such as credits for production and direction, are listed at the bottom of the poster along with a note that the film will be released in theaters and IMAX.\n"
     ]
    }
   ],
   "source": [
    "print(response.choices[0].message.content)"
   ]
  }
 ],
 "metadata": {
  "kernelspec": {
   "display_name": "venv",
   "language": "python",
   "name": "python3"
  },
  "language_info": {
   "codemirror_mode": {
    "name": "ipython",
    "version": 3
   },
   "file_extension": ".py",
   "mimetype": "text/x-python",
   "name": "python",
   "nbconvert_exporter": "python",
   "pygments_lexer": "ipython3",
   "version": "3.12.4"
  }
 },
 "nbformat": 4,
 "nbformat_minor": 2
}
