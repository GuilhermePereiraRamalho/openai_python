{
 "cells": [
  {
   "cell_type": "markdown",
   "metadata": {},
   "source": [
    "## Setup"
   ]
  },
  {
   "cell_type": "code",
   "execution_count": 1,
   "metadata": {},
   "outputs": [
    {
     "data": {
      "text/plain": [
       "True"
      ]
     },
     "execution_count": 1,
     "metadata": {},
     "output_type": "execute_result"
    }
   ],
   "source": [
    "from openai import OpenAI\n",
    "import json\n",
    "from dotenv import load_dotenv\n",
    "import os\n",
    "\n",
    "load_dotenv()"
   ]
  },
  {
   "cell_type": "code",
   "execution_count": 3,
   "metadata": {},
   "outputs": [],
   "source": [
    "client = OpenAI(api_key=os.getenv(\"OPENAI_API_KEY\"))\n",
    "model = 'gpt-3.5-turbo-1106'"
   ]
  },
  {
   "cell_type": "markdown",
   "metadata": {},
   "source": [
    "## Personal Function"
   ]
  },
  {
   "cell_type": "code",
   "execution_count": 4,
   "metadata": {},
   "outputs": [],
   "source": [
    "def get_city_population(city):\n",
    "    popuations = {\n",
    "        \"São Paulo\": \"12.33 million\",\n",
    "        \"New York\": \"8.42 million\",\n",
    "        \"Tokyo\": \"13.96 million\"\n",
    "    }\n",
    "    return json.dumps({\"city\": city, \"population\": popuations.get(city, \"unknown\")})"
   ]
  },
  {
   "cell_type": "markdown",
   "metadata": {},
   "source": [
    "## Firs API Call"
   ]
  },
  {
   "cell_type": "code",
   "execution_count": 5,
   "metadata": {},
   "outputs": [],
   "source": [
    "messages = [{\"role\": \"user\", \"content\": \"What is the population of São Paulo, New York and Tokyo?\"}]\n",
    "\n",
    "response = client.chat.completions.create(\n",
    "    messages=messages,\n",
    "    model=model,\n",
    "    tools=[\n",
    "        {\n",
    "            \"type\": \"function\",\n",
    "            \"function\":{\n",
    "                \"name\": \"get_city_population\",\n",
    "                \"description\": \"Returns the population of a specific city\",\n",
    "                \"parameters\": {\n",
    "                    \"type\": \"object\",\n",
    "                    \"properties\": {\n",
    "                        \"city\": {\n",
    "                            \"type\": \"string\",\n",
    "                            \"description\": \"The name of the city\",\n",
    "                        },\n",
    "                    },\n",
    "                    \"required\": [\"city\"]\n",
    "                },\n",
    "            },\n",
    "        }\n",
    "    ],\n",
    "    tool_choice=\"auto\"\n",
    ")"
   ]
  },
  {
   "cell_type": "code",
   "execution_count": 6,
   "metadata": {},
   "outputs": [
    {
     "name": "stdout",
     "output_type": "stream",
     "text": [
      "ChatCompletion(id='chatcmpl-9jTQxn9lCh0Vh85MVVg2WkjUMQZh2', choices=[Choice(finish_reason='tool_calls', index=0, logprobs=None, message=ChatCompletionMessage(content=None, role='assistant', function_call=None, tool_calls=[ChatCompletionMessageToolCall(id='call_ng3ZLjh4Hx6rS0cM2ci1lV4n', function=Function(arguments='{\"city\": \"São Paulo\"}', name='get_city_population'), type='function'), ChatCompletionMessageToolCall(id='call_tsqKhElau1AEtQTQ2eoguqjv', function=Function(arguments='{\"city\": \"New York\"}', name='get_city_population'), type='function'), ChatCompletionMessageToolCall(id='call_OERRK2iC5JfRzNmEokpfyEn7', function=Function(arguments='{\"city\": \"Tokyo\"}', name='get_city_population'), type='function')]))], created=1720624931, model='gpt-3.5-turbo-1106', object='chat.completion', service_tier=None, system_fingerprint='fp_44132a4de3', usage=CompletionUsage(completion_tokens=64, prompt_tokens=68, total_tokens=132))\n"
     ]
    }
   ],
   "source": [
    "print(response)"
   ]
  },
  {
   "cell_type": "code",
   "execution_count": 7,
   "metadata": {},
   "outputs": [
    {
     "name": "stdout",
     "output_type": "stream",
     "text": [
      "ChatCompletionMessage(content=None, role='assistant', function_call=None, tool_calls=[ChatCompletionMessageToolCall(id='call_ng3ZLjh4Hx6rS0cM2ci1lV4n', function=Function(arguments='{\"city\": \"São Paulo\"}', name='get_city_population'), type='function'), ChatCompletionMessageToolCall(id='call_tsqKhElau1AEtQTQ2eoguqjv', function=Function(arguments='{\"city\": \"New York\"}', name='get_city_population'), type='function'), ChatCompletionMessageToolCall(id='call_OERRK2iC5JfRzNmEokpfyEn7', function=Function(arguments='{\"city\": \"Tokyo\"}', name='get_city_population'), type='function')])\n"
     ]
    }
   ],
   "source": [
    "response_message = response.choices[0].message\n",
    "print(response_message)"
   ]
  },
  {
   "cell_type": "code",
   "execution_count": 8,
   "metadata": {},
   "outputs": [
    {
     "name": "stdout",
     "output_type": "stream",
     "text": [
      "[ChatCompletionMessageToolCall(id='call_ng3ZLjh4Hx6rS0cM2ci1lV4n', function=Function(arguments='{\"city\": \"São Paulo\"}', name='get_city_population'), type='function'), ChatCompletionMessageToolCall(id='call_tsqKhElau1AEtQTQ2eoguqjv', function=Function(arguments='{\"city\": \"New York\"}', name='get_city_population'), type='function'), ChatCompletionMessageToolCall(id='call_OERRK2iC5JfRzNmEokpfyEn7', function=Function(arguments='{\"city\": \"Tokyo\"}', name='get_city_population'), type='function')]\n"
     ]
    }
   ],
   "source": [
    "tool_calls = response_message.tool_calls\n",
    "print(tool_calls)"
   ]
  },
  {
   "cell_type": "markdown",
   "metadata": {},
   "source": [
    "## Funcion Call and Second API Call"
   ]
  },
  {
   "cell_type": "code",
   "execution_count": 9,
   "metadata": {},
   "outputs": [],
   "source": [
    "if tool_calls:\n",
    "      available_functions = {\"get_city_population\": get_city_population}\n",
    "      messages.append(response_message)\n",
    "\n",
    "      for tool_call in tool_calls:\n",
    "          function_name = tool_call.function.name\n",
    "          function_to_call = available_functions[function_name]\n",
    "          function_args = json.loads(tool_call.function.arguments)\n",
    "          function_response = function_to_call(city=function_args.get(\"city\"))\n",
    "\n",
    "          messages.append({\n",
    "              \"tool_call_id\": tool_call.id,\n",
    "              \"role\": \"tool\",\n",
    "              \"name\": function_name,\n",
    "              \"content\": function_response\n",
    "          })\n",
    "\n",
    "      new_response = client.chat.completions.create(\n",
    "          model=model,\n",
    "          messages=messages\n",
    "      )"
   ]
  },
  {
   "cell_type": "code",
   "execution_count": 10,
   "metadata": {},
   "outputs": [
    {
     "name": "stdout",
     "output_type": "stream",
     "text": [
      "ChatCompletion(id='chatcmpl-9jTwFcwrxtsnXLbX0ytnwPLqPUWpk', choices=[Choice(finish_reason='stop', index=0, logprobs=None, message=ChatCompletionMessage(content='The population of São Paulo is 12.33 million, New York is 8.42 million, and Tokyo is 13.96 million.', role='assistant', function_call=None, tool_calls=None))], created=1720626871, model='gpt-3.5-turbo-1106', object='chat.completion', service_tier=None, system_fingerprint='fp_44132a4de3', usage=CompletionUsage(completion_tokens=30, prompt_tokens=149, total_tokens=179))\n"
     ]
    }
   ],
   "source": [
    "print(new_response)"
   ]
  },
  {
   "cell_type": "code",
   "execution_count": 12,
   "metadata": {},
   "outputs": [
    {
     "data": {
      "text/html": [
       "<p style='word-wrap: break-word; width: 800px;'>The population of São Paulo is 12.33 million, New York is 8.42 million, and Tokyo is 13.96 million.</p>"
      ],
      "text/plain": [
       "<IPython.core.display.HTML object>"
      ]
     },
     "metadata": {},
     "output_type": "display_data"
    }
   ],
   "source": [
    "from IPython.display import display, HTML\n",
    "\n",
    "def display_wrapped_text(text):\n",
    "    wrapped_text = \"<p style='word-wrap: break-word; width: 800px;'>\" + text + \"</p>\"\n",
    "    display(HTML(wrapped_text))\n",
    "\n",
    "long_text = new_response.choices[0].message.content\n",
    "display_wrapped_text(long_text)"
   ]
  },
  {
   "cell_type": "code",
   "execution_count": null,
   "metadata": {},
   "outputs": [],
   "source": []
  }
 ],
 "metadata": {
  "kernelspec": {
   "display_name": "venv",
   "language": "python",
   "name": "python3"
  },
  "language_info": {
   "codemirror_mode": {
    "name": "ipython",
    "version": 3
   },
   "file_extension": ".py",
   "mimetype": "text/x-python",
   "name": "python",
   "nbconvert_exporter": "python",
   "pygments_lexer": "ipython3",
   "version": "3.12.4"
  }
 },
 "nbformat": 4,
 "nbformat_minor": 2
}
